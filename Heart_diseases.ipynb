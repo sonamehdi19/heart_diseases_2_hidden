{
 "cells": [
  {
   "cell_type": "markdown",
   "id": "b0a109cc",
   "metadata": {},
   "source": [
    "# Week 10 Homework: Heart Disease Prediction "
   ]
  },
  {
   "cell_type": "markdown",
   "id": "5d7c49ec",
   "metadata": {},
   "source": [
    "#### Questions:"
   ]
  },
  {
   "cell_type": "markdown",
   "id": "d0b678c2",
   "metadata": {},
   "source": [
    "1. What are the dimensions of the matrices you will use to represent your model (inputs, parameters,\n",
    "  and outputs)? How will you integrate the concept of mini-batch training? \n",
    "\n",
    "The input layer will have 13 nodes because we have 13 features, excluding the target.\n",
    "The hidden layer can accept any number of nodes, but we are given to firstly start  with 6, and the the second layer of 4 units and then output, which makes the predictions, will have 1 node.\n",
    "\n",
    "Input=212x13 matrix\n",
    "\n",
    "1st hidden layer=13x6 matrix\n",
    "\n",
    "2st hidden layer=6x4 matrix\n",
    "\n",
    "Conversion to pred=4x91 matrix\n",
    "\n",
    "Output=91x1 matrix predictions\n",
    "\n",
    "For the parameters, I will collect them in dictionary, they will have a total len of 11:\n",
    "W1, W2, W3, Z1, Z2, Z3, A1, A2, b1, b2, b3\n",
    "So, the matrix for the parameters will be 3d matrix. The number of its layers are 2, layers have 6 and 4 number of neurons respectively, and each neuron has 11 parameters. \n",
    "Total will be 2x6x11 and 2x4x11 matrixes \n"
   ]
  },
  {
   "cell_type": "markdown",
   "id": "b2d473e6",
   "metadata": {},
   "source": [
    "Batch size is the number of training samples we use in a single batch.  As the data we use is small, we can use the size of 8."
   ]
  },
  {
   "attachments": {
    "loss_graph.png": {
     "image/png": "[encoded data removed]"
    }
   },
   "cell_type": "markdown",
   "id": "3dea46cf",
   "metadata": {},
   "source": [
    "2. How to check whether or not you should keep training your model?\n",
    "\n",
    "\n",
    "In order to determine when training deep neural networks is to select the epoch in which to stop. We can use the concept of early stoppping.\n",
    "\n",
    "By analyzing the error or loss graph in both the training and validation splits as the epochs pass, we will see that at first both decrease. However, the validation error will start to flatten out or increase at a certain time while the training error will continue to decrease.\n",
    "\n",
    "The purpose of a validation set is to give us an idea of how our model behaves on data on which it has not been trained. Therefore, the epoch when the validation error starts to increase is precisely when the model is overfitting to the training set and does not generalize new data correctly. This is when we need to stop our training.\n",
    "\n",
    "![loss_graph.png](attachment:loss_graph.png)"
   ]
  },
  {
   "cell_type": "code",
   "execution_count": 1,
   "id": "574238e1",
   "metadata": {},
   "outputs": [],
   "source": [
    "import warnings\n",
    "warnings.filterwarnings(\"ignore\") "
   ]
  },
  {
   "cell_type": "code",
   "execution_count": 2,
   "id": "2a7457d1",
   "metadata": {},
   "outputs": [],
   "source": [
    "import pandas as pd\n",
    "import numpy as np \n",
    "import matplotlib.pyplot as plt\n",
    "from sklearn.model_selection import train_test_split\n",
    "from sklearn.preprocessing import StandardScaler"
   ]
  },
  {
   "cell_type": "markdown",
   "id": "d1e63660",
   "metadata": {},
   "source": [
    "### Data understaning and preparation"
   ]
  },
  {
   "cell_type": "code",
   "execution_count": 3,
   "id": "f459f921",
   "metadata": {},
   "outputs": [
    {
     "data": {
      "text/html": [
       "<div>\n",
       "<style scoped>\n",
       "    .dataframe tbody tr th:only-of-type {\n",
       "        vertical-align: middle;\n",
       "    }\n",
       "\n",
       "    .dataframe tbody tr th {\n",
       "        vertical-align: top;\n",
       "    }\n",
       "\n",
       "    .dataframe thead th {\n",
       "        text-align: right;\n",
       "    }\n",
       "</style>\n",
       "<table border=\"1\" class=\"dataframe\">\n",
       "  <thead>\n",
       "    <tr style=\"text-align: right;\">\n",
       "      <th></th>\n",
       "      <th>age</th>\n",
       "      <th>sex</th>\n",
       "      <th>chest_pain</th>\n",
       "      <th>resting_blood_pressure</th>\n",
       "      <th>serum_cholestoral</th>\n",
       "      <th>fasting_blood_sugar</th>\n",
       "      <th>resting_ecg_results</th>\n",
       "      <th>max_heart_rate_achieved</th>\n",
       "      <th>exercise_induced_angina</th>\n",
       "      <th>oldpeak</th>\n",
       "      <th>slope of the peak</th>\n",
       "      <th>num_of_major_vessels</th>\n",
       "      <th>thal</th>\n",
       "      <th>heart_disease</th>\n",
       "    </tr>\n",
       "  </thead>\n",
       "  <tbody>\n",
       "    <tr>\n",
       "      <th>1</th>\n",
       "      <td>63</td>\n",
       "      <td>1</td>\n",
       "      <td>3</td>\n",
       "      <td>145</td>\n",
       "      <td>233</td>\n",
       "      <td>1</td>\n",
       "      <td>0</td>\n",
       "      <td>150</td>\n",
       "      <td>0</td>\n",
       "      <td>2.3</td>\n",
       "      <td>0</td>\n",
       "      <td>0</td>\n",
       "      <td>1</td>\n",
       "      <td>1</td>\n",
       "    </tr>\n",
       "    <tr>\n",
       "      <th>2</th>\n",
       "      <td>37</td>\n",
       "      <td>1</td>\n",
       "      <td>2</td>\n",
       "      <td>130</td>\n",
       "      <td>250</td>\n",
       "      <td>0</td>\n",
       "      <td>1</td>\n",
       "      <td>187</td>\n",
       "      <td>0</td>\n",
       "      <td>3.5</td>\n",
       "      <td>0</td>\n",
       "      <td>0</td>\n",
       "      <td>2</td>\n",
       "      <td>1</td>\n",
       "    </tr>\n",
       "    <tr>\n",
       "      <th>3</th>\n",
       "      <td>41</td>\n",
       "      <td>0</td>\n",
       "      <td>1</td>\n",
       "      <td>130</td>\n",
       "      <td>204</td>\n",
       "      <td>0</td>\n",
       "      <td>0</td>\n",
       "      <td>172</td>\n",
       "      <td>0</td>\n",
       "      <td>1.4</td>\n",
       "      <td>2</td>\n",
       "      <td>0</td>\n",
       "      <td>2</td>\n",
       "      <td>1</td>\n",
       "    </tr>\n",
       "    <tr>\n",
       "      <th>4</th>\n",
       "      <td>56</td>\n",
       "      <td>1</td>\n",
       "      <td>1</td>\n",
       "      <td>120</td>\n",
       "      <td>236</td>\n",
       "      <td>0</td>\n",
       "      <td>1</td>\n",
       "      <td>178</td>\n",
       "      <td>0</td>\n",
       "      <td>0.8</td>\n",
       "      <td>2</td>\n",
       "      <td>0</td>\n",
       "      <td>2</td>\n",
       "      <td>1</td>\n",
       "    </tr>\n",
       "    <tr>\n",
       "      <th>5</th>\n",
       "      <td>57</td>\n",
       "      <td>0</td>\n",
       "      <td>0</td>\n",
       "      <td>120</td>\n",
       "      <td>354</td>\n",
       "      <td>0</td>\n",
       "      <td>1</td>\n",
       "      <td>163</td>\n",
       "      <td>1</td>\n",
       "      <td>0.6</td>\n",
       "      <td>2</td>\n",
       "      <td>0</td>\n",
       "      <td>2</td>\n",
       "      <td>1</td>\n",
       "    </tr>\n",
       "  </tbody>\n",
       "</table>\n",
       "</div>"
      ],
      "text/plain": [
       "  age sex chest_pain resting_blood_pressure serum_cholestoral  \\\n",
       "1  63   1          3                    145               233   \n",
       "2  37   1          2                    130               250   \n",
       "3  41   0          1                    130               204   \n",
       "4  56   1          1                    120               236   \n",
       "5  57   0          0                    120               354   \n",
       "\n",
       "  fasting_blood_sugar resting_ecg_results max_heart_rate_achieved  \\\n",
       "1                   1                   0                     150   \n",
       "2                   0                   1                     187   \n",
       "3                   0                   0                     172   \n",
       "4                   0                   1                     178   \n",
       "5                   0                   1                     163   \n",
       "\n",
       "  exercise_induced_angina oldpeak slope of the peak num_of_major_vessels thal  \\\n",
       "1                       0     2.3                 0                    0    1   \n",
       "2                       0     3.5                 0                    0    2   \n",
       "3                       0     1.4                 2                    0    2   \n",
       "4                       0     0.8                 2                    0    2   \n",
       "5                       1     0.6                 2                    0    2   \n",
       "\n",
       "  heart_disease  \n",
       "1             1  \n",
       "2             1  \n",
       "3             1  \n",
       "4             1  \n",
       "5             1  "
      ]
     },
     "execution_count": 3,
     "metadata": {},
     "output_type": "execute_result"
    }
   ],
   "source": [
    "#column names \n",
    "column_names =  ['age', 'sex','chest_pain','resting_blood_pressure',  \n",
    "        'serum_cholestoral', 'fasting_blood_sugar', 'resting_ecg_results',\n",
    "        'max_heart_rate_achieved', 'exercise_induced_angina', 'oldpeak',\"slope of the peak\",\n",
    "        'num_of_major_vessels','thal', 'heart_disease']\n",
    "\n",
    "df = pd.read_csv('heart_disease_dataset.csv', sep=';', names=column_names)\n",
    "df.drop(labels=0, axis=0, inplace=True)\n",
    "df.head()"
   ]
  },
  {
   "cell_type": "code",
   "execution_count": 4,
   "id": "19698253",
   "metadata": {},
   "outputs": [
    {
     "data": {
      "text/plain": [
       "(303, 14)"
      ]
     },
     "execution_count": 4,
     "metadata": {},
     "output_type": "execute_result"
    }
   ],
   "source": [
    "df.shape"
   ]
  },
  {
   "cell_type": "code",
   "execution_count": 5,
   "id": "575fe410",
   "metadata": {},
   "outputs": [
    {
     "data": {
      "text/html": [
       "<div>\n",
       "<style scoped>\n",
       "    .dataframe tbody tr th:only-of-type {\n",
       "        vertical-align: middle;\n",
       "    }\n",
       "\n",
       "    .dataframe tbody tr th {\n",
       "        vertical-align: top;\n",
       "    }\n",
       "\n",
       "    .dataframe thead th {\n",
       "        text-align: right;\n",
       "    }\n",
       "</style>\n",
       "<table border=\"1\" class=\"dataframe\">\n",
       "  <thead>\n",
       "    <tr style=\"text-align: right;\">\n",
       "      <th></th>\n",
       "      <th>age</th>\n",
       "      <th>sex</th>\n",
       "      <th>chest_pain</th>\n",
       "      <th>resting_blood_pressure</th>\n",
       "      <th>serum_cholestoral</th>\n",
       "      <th>fasting_blood_sugar</th>\n",
       "      <th>resting_ecg_results</th>\n",
       "      <th>max_heart_rate_achieved</th>\n",
       "      <th>exercise_induced_angina</th>\n",
       "      <th>oldpeak</th>\n",
       "      <th>slope of the peak</th>\n",
       "      <th>num_of_major_vessels</th>\n",
       "      <th>thal</th>\n",
       "      <th>heart_disease</th>\n",
       "    </tr>\n",
       "  </thead>\n",
       "  <tbody>\n",
       "    <tr>\n",
       "      <th>count</th>\n",
       "      <td>303</td>\n",
       "      <td>303</td>\n",
       "      <td>303</td>\n",
       "      <td>303</td>\n",
       "      <td>303</td>\n",
       "      <td>303</td>\n",
       "      <td>303</td>\n",
       "      <td>303</td>\n",
       "      <td>303</td>\n",
       "      <td>303</td>\n",
       "      <td>303</td>\n",
       "      <td>303</td>\n",
       "      <td>303</td>\n",
       "      <td>303</td>\n",
       "    </tr>\n",
       "    <tr>\n",
       "      <th>unique</th>\n",
       "      <td>41</td>\n",
       "      <td>2</td>\n",
       "      <td>4</td>\n",
       "      <td>49</td>\n",
       "      <td>152</td>\n",
       "      <td>2</td>\n",
       "      <td>3</td>\n",
       "      <td>91</td>\n",
       "      <td>2</td>\n",
       "      <td>40</td>\n",
       "      <td>3</td>\n",
       "      <td>5</td>\n",
       "      <td>4</td>\n",
       "      <td>2</td>\n",
       "    </tr>\n",
       "    <tr>\n",
       "      <th>top</th>\n",
       "      <td>58</td>\n",
       "      <td>1</td>\n",
       "      <td>0</td>\n",
       "      <td>120</td>\n",
       "      <td>204</td>\n",
       "      <td>0</td>\n",
       "      <td>1</td>\n",
       "      <td>162</td>\n",
       "      <td>0</td>\n",
       "      <td>0.0</td>\n",
       "      <td>2</td>\n",
       "      <td>0</td>\n",
       "      <td>2</td>\n",
       "      <td>1</td>\n",
       "    </tr>\n",
       "    <tr>\n",
       "      <th>freq</th>\n",
       "      <td>19</td>\n",
       "      <td>207</td>\n",
       "      <td>143</td>\n",
       "      <td>37</td>\n",
       "      <td>6</td>\n",
       "      <td>258</td>\n",
       "      <td>152</td>\n",
       "      <td>11</td>\n",
       "      <td>204</td>\n",
       "      <td>99</td>\n",
       "      <td>142</td>\n",
       "      <td>175</td>\n",
       "      <td>166</td>\n",
       "      <td>165</td>\n",
       "    </tr>\n",
       "  </tbody>\n",
       "</table>\n",
       "</div>"
      ],
      "text/plain": [
       "        age  sex chest_pain resting_blood_pressure serum_cholestoral  \\\n",
       "count   303  303        303                    303               303   \n",
       "unique   41    2          4                     49               152   \n",
       "top      58    1          0                    120               204   \n",
       "freq     19  207        143                     37                 6   \n",
       "\n",
       "       fasting_blood_sugar resting_ecg_results max_heart_rate_achieved  \\\n",
       "count                  303                 303                     303   \n",
       "unique                   2                   3                      91   \n",
       "top                      0                   1                     162   \n",
       "freq                   258                 152                      11   \n",
       "\n",
       "       exercise_induced_angina oldpeak slope of the peak num_of_major_vessels  \\\n",
       "count                      303     303               303                  303   \n",
       "unique                       2      40                 3                    5   \n",
       "top                          0     0.0                 2                    0   \n",
       "freq                       204      99               142                  175   \n",
       "\n",
       "       thal heart_disease  \n",
       "count   303           303  \n",
       "unique    4             2  \n",
       "top       2             1  \n",
       "freq    166           165  "
      ]
     },
     "execution_count": 5,
     "metadata": {},
     "output_type": "execute_result"
    }
   ],
   "source": [
    "df.describe()"
   ]
  },
  {
   "cell_type": "code",
   "execution_count": 6,
   "id": "19336970",
   "metadata": {},
   "outputs": [
    {
     "name": "stdout",
     "output_type": "stream",
     "text": [
      "<class 'pandas.core.frame.DataFrame'>\n",
      "Int64Index: 303 entries, 1 to 303\n",
      "Data columns (total 14 columns):\n",
      " #   Column                   Non-Null Count  Dtype \n",
      "---  ------                   --------------  ----- \n",
      " 0   age                      303 non-null    object\n",
      " 1   sex                      303 non-null    object\n",
      " 2   chest_pain               303 non-null    object\n",
      " 3   resting_blood_pressure   303 non-null    object\n",
      " 4   serum_cholestoral        303 non-null    object\n",
      " 5   fasting_blood_sugar      303 non-null    object\n",
      " 6   resting_ecg_results      303 non-null    object\n",
      " 7   max_heart_rate_achieved  303 non-null    object\n",
      " 8   exercise_induced_angina  303 non-null    object\n",
      " 9   oldpeak                  303 non-null    object\n",
      " 10  slope of the peak        303 non-null    object\n",
      " 11  num_of_major_vessels     303 non-null    object\n",
      " 12  thal                     303 non-null    object\n",
      " 13  heart_disease            303 non-null    object\n",
      "dtypes: object(14)\n",
      "memory usage: 35.5+ KB\n"
     ]
    }
   ],
   "source": [
    "df.info()"
   ]
  },
  {
   "cell_type": "code",
   "execution_count": 7,
   "id": "21063e4a",
   "metadata": {},
   "outputs": [
    {
     "data": {
      "text/plain": [
       "age                        0\n",
       "sex                        0\n",
       "chest_pain                 0\n",
       "resting_blood_pressure     0\n",
       "serum_cholestoral          0\n",
       "fasting_blood_sugar        0\n",
       "resting_ecg_results        0\n",
       "max_heart_rate_achieved    0\n",
       "exercise_induced_angina    0\n",
       "oldpeak                    0\n",
       "slope of the peak          0\n",
       "num_of_major_vessels       0\n",
       "thal                       0\n",
       "heart_disease              0\n",
       "dtype: int64"
      ]
     },
     "execution_count": 7,
     "metadata": {},
     "output_type": "execute_result"
    }
   ],
   "source": [
    "df.isnull().sum()"
   ]
  },
  {
   "cell_type": "code",
   "execution_count": 8,
   "id": "2db93fd4",
   "metadata": {},
   "outputs": [
    {
     "data": {
      "text/plain": [
       "0"
      ]
     },
     "execution_count": 8,
     "metadata": {},
     "output_type": "execute_result"
    }
   ],
   "source": [
    "df.isnull().sum().sum()"
   ]
  },
  {
   "cell_type": "code",
   "execution_count": 9,
   "id": "85b98b74",
   "metadata": {},
   "outputs": [
    {
     "data": {
      "text/plain": [
       "age                        object\n",
       "sex                        object\n",
       "chest_pain                 object\n",
       "resting_blood_pressure     object\n",
       "serum_cholestoral          object\n",
       "fasting_blood_sugar        object\n",
       "resting_ecg_results        object\n",
       "max_heart_rate_achieved    object\n",
       "exercise_induced_angina    object\n",
       "oldpeak                    object\n",
       "slope of the peak          object\n",
       "num_of_major_vessels       object\n",
       "thal                       object\n",
       "heart_disease              object\n",
       "dtype: object"
      ]
     },
     "execution_count": 9,
     "metadata": {},
     "output_type": "execute_result"
    }
   ],
   "source": [
    "df.dtypes"
   ]
  },
  {
   "cell_type": "code",
   "execution_count": 10,
   "id": "b980868b",
   "metadata": {},
   "outputs": [],
   "source": [
    "df = df.astype({\"oldpeak\": float, \"sex\": int, \"age\":int, \"chest_pain\":int, \"resting_blood_pressure\":int, \n",
    "               \"serum_cholestoral\":int,\"fasting_blood_sugar\":int,\"resting_ecg_results\":int, \"max_heart_rate_achieved\":int,\n",
    "               \"exercise_induced_angina\":int,\"slope of the peak\":int,\"num_of_major_vessels\":int,\"thal\":int, \n",
    "               \"heart_disease\":int})"
   ]
  },
  {
   "cell_type": "code",
   "execution_count": 11,
   "id": "b9596205",
   "metadata": {},
   "outputs": [
    {
     "data": {
      "text/plain": [
       "age                          int64\n",
       "sex                          int64\n",
       "chest_pain                   int64\n",
       "resting_blood_pressure       int64\n",
       "serum_cholestoral            int64\n",
       "fasting_blood_sugar          int64\n",
       "resting_ecg_results          int64\n",
       "max_heart_rate_achieved      int64\n",
       "exercise_induced_angina      int64\n",
       "oldpeak                    float64\n",
       "slope of the peak            int64\n",
       "num_of_major_vessels         int64\n",
       "thal                         int64\n",
       "heart_disease                int64\n",
       "dtype: object"
      ]
     },
     "execution_count": 11,
     "metadata": {},
     "output_type": "execute_result"
    }
   ],
   "source": [
    "df.dtypes"
   ]
  },
  {
   "cell_type": "code",
   "execution_count": 12,
   "id": "a0c9bfee",
   "metadata": {},
   "outputs": [
    {
     "data": {
      "text/plain": [
       "1    165\n",
       "0    138\n",
       "Name: heart_disease, dtype: int64"
      ]
     },
     "execution_count": 12,
     "metadata": {},
     "output_type": "execute_result"
    }
   ],
   "source": [
    "df.heart_disease.value_counts()  #target balance "
   ]
  },
  {
   "cell_type": "code",
   "execution_count": 13,
   "id": "53a22da6",
   "metadata": {},
   "outputs": [],
   "source": [
    "X = df.drop('heart_disease', axis=1)\n",
    "y= df['heart_disease'].values.reshape(X.shape[0], 1)"
   ]
  },
  {
   "cell_type": "markdown",
   "id": "47866b7b",
   "metadata": {},
   "source": [
    "### Train-Test split"
   ]
  },
  {
   "cell_type": "code",
   "execution_count": 14,
   "id": "e821acd6",
   "metadata": {},
   "outputs": [],
   "source": [
    "#split data into train and test set\n",
    "X_train, X_test, y_train, y_test = train_test_split(X, y,stratify=y, test_size=0.3, random_state=3)"
   ]
  },
  {
   "cell_type": "markdown",
   "id": "0a507ee4",
   "metadata": {},
   "source": [
    "### Scaling"
   ]
  },
  {
   "cell_type": "code",
   "execution_count": 15,
   "id": "6e16248c",
   "metadata": {},
   "outputs": [],
   "source": [
    "#standardize the dataset\n",
    "scaler = StandardScaler()\n",
    "scaler.fit(X_train)\n",
    "X_train = scaler.transform(X_train)\n",
    "X_test = scaler.transform(X_test)"
   ]
  },
  {
   "cell_type": "code",
   "execution_count": 16,
   "id": "87b08fe7",
   "metadata": {},
   "outputs": [
    {
     "name": "stdout",
     "output_type": "stream",
     "text": [
      "Shape of train set is (212, 13)\n",
      "Shape of test set is (91, 13)\n",
      "Shape of train label is (212, 1)\n",
      "Shape of test labels is (91, 1)\n"
     ]
    }
   ],
   "source": [
    "print(f\"Shape of train set is {X_train.shape}\")\n",
    "print(f\"Shape of test set is {X_test.shape}\")\n",
    "print(f\"Shape of train label is {y_train.shape}\")\n",
    "print(f\"Shape of test labels is {y_test.shape}\")"
   ]
  },
  {
   "cell_type": "markdown",
   "id": "ca39fadb",
   "metadata": {},
   "source": [
    "# Modelling"
   ]
  },
  {
   "cell_type": "code",
   "execution_count": 17,
   "id": "d0820d19",
   "metadata": {},
   "outputs": [],
   "source": [
    "#we have total\n",
    "class ArtificialNeuralNetwork():  \n",
    "    def __init__(self, layers=[13,6,4,1], learning_rate=0.001, iterations=100):\n",
    "        self.params = {}\n",
    "        self.learning_rate = learning_rate\n",
    "        self.iterations = iterations\n",
    "        self.loss = []\n",
    "        self.sample_size = None\n",
    "        self.layers = layers\n",
    "        self.X = None\n",
    "        self.y = None\n",
    "                \n",
    "    def init_weights(self):\n",
    "        np.random.seed(1) \n",
    "        self.params[\"W1\"] = np.random.randn(self.layers[0], self.layers[1]) \n",
    "        self.params['b1']  =np.random.randn(self.layers[1],)\n",
    "        self.params['W2'] = np.random.randn(self.layers[1],self.layers[2]) \n",
    "        self.params['b2'] = np.random.randn(self.layers[2],)\n",
    "        self.params['W3'] = np.random.randn(self.layers[2],self.layers[3]) \n",
    "        self.params['b3'] = np.random.randn(self.layers[3],)\n",
    "\n",
    "    \n",
    "    def relu(self,Z):\n",
    "        return np.maximum(0,Z)\n",
    "\n",
    "    def dRelu(self, x):\n",
    "        x[x<=0] = 0\n",
    "        x[x>0] = 1\n",
    "        return x\n",
    "\n",
    "    def eta(self, x):\n",
    "      ETA = 0.0000000001\n",
    "      return np.maximum(x, ETA)\n",
    "\n",
    "\n",
    "    def sigmoid(self,Z):\n",
    "        return 1/(1+np.exp(-Z))\n",
    "\n",
    "    def entropy_loss(self,y, yhat):\n",
    "        nsample = len(y)\n",
    "        yhat_inv = 1.0 - yhat\n",
    "        y_inv = 1.0 - y\n",
    "        yhat = self.eta(yhat) ## clips value to avoid NaNs in log\n",
    "        yhat_inv = self.eta(yhat_inv) \n",
    "        loss = -1/nsample * (np.sum(np.multiply(np.log(yhat), y) + np.multiply((y_inv), np.log(yhat_inv))))\n",
    "        return loss\n",
    "\n",
    "    def forward_propagation(self):\n",
    "        \n",
    "        Z1 = self.X.dot(self.params['W1']) + self.params['b1']\n",
    "        A1 = self.relu(Z1)\n",
    "        Z2 = A1.dot(self.params['W2']) + self.params['b2']\n",
    "        A2 = self.relu(Z2)\n",
    "        Z3 = A2.dot(self.params['W3']) + self.params['b3']\n",
    "        \n",
    "        yhat = self.sigmoid(Z3)\n",
    "        loss = self.entropy_loss(self.y,yhat)\n",
    "\n",
    "        # saving calculated parameters     \n",
    "        self.params['Z1'] = Z1\n",
    "        self.params['Z2'] = Z2\n",
    "        self.params['Z3'] = Z3\n",
    "        self.params['A1'] = A1\n",
    "        self.params['A2'] = A2\n",
    "\n",
    "        return yhat,loss\n",
    "\n",
    "    def back_propagation(self,yhat):\n",
    " \n",
    "        y_inv = 1 - self.y\n",
    "        yhat_inv = 1 - yhat\n",
    "\n",
    "        dl_wrt_yhat = np.divide(y_inv, self.eta(yhat_inv)) - np.divide(self.y, self.eta(yhat))\n",
    "        dl_wrt_sig = yhat * (yhat_inv)\n",
    "        dl_wrt_z3 = dl_wrt_yhat * dl_wrt_sig\n",
    "\n",
    "        dl_wrt_A2 = dl_wrt_z3.dot(self.params['W3'].T)\n",
    "        dl_wrt_w3 = self.params['A2'].T.dot(dl_wrt_z3)\n",
    "        dl_wrt_b3 = np.sum(dl_wrt_z3, axis=0, keepdims=True)\n",
    "        \n",
    "        dl_wrt_z2 = dl_wrt_A2 * self.dRelu(self.params['Z2'])\n",
    "        dl_wrt_A1 = dl_wrt_z2.dot(self.params['W2'].T)\n",
    "        dl_wrt_w2 = self.params['A1'].T.dot(dl_wrt_z2)\n",
    "        dl_wrt_b2 = np.sum(dl_wrt_z2, axis=0, keepdims=True)\n",
    "\n",
    "        dl_wrt_z1 = dl_wrt_A1 * self.dRelu(self.params['Z1'])\n",
    "        dl_wrt_w1 = self.X.T.dot(dl_wrt_z1)\n",
    "        dl_wrt_b1 = np.sum(dl_wrt_z1, axis=0, keepdims=True)\n",
    "\n",
    "        #updating the weights and bias\n",
    "        self.params['W1'] = self.params['W1'] - self.learning_rate * dl_wrt_w1\n",
    "        self.params['W2'] = self.params['W2'] - self.learning_rate * dl_wrt_w2\n",
    "        self.params['b1'] = self.params['b1'] - self.learning_rate * dl_wrt_b1\n",
    "        self.params['b2'] = self.params['b2'] - self.learning_rate * dl_wrt_b2\n",
    "\n",
    "    def fit(self, X, y):\n",
    "        self.X = X\n",
    "        self.y = y\n",
    "        self.init_weights() #initialize\n",
    "\n",
    "\n",
    "        for i in range(self.iterations):\n",
    "            yhat, loss = self.forward_propagation()\n",
    "            self.back_propagation(yhat)\n",
    "            self.loss.append(loss)\n",
    "\n",
    "    def predict(self, X):\n",
    "\n",
    "        Z1 = X.dot(self.params['W1']) + self.params['b1']\n",
    "        A1 = self.relu(Z1)\n",
    "        Z2 = A1.dot(self.params['W2']) + self.params['b2']\n",
    "        A2 = self.relu(Z2)\n",
    "        Z3 = A2.dot(self.params['W3']) + self.params['b3']\n",
    "        pred = self.sigmoid(Z3)\n",
    "        return np.round(pred) \n",
    "\n",
    "\n",
    "    def acc(self, y, yhat):\n",
    "\n",
    "        acc = int(sum(y == yhat) / len(y) * 100)\n",
    "        return acc\n",
    "\n",
    "    def plot_loss(self):\n",
    "        plt.plot(self.loss)\n",
    "        plt.xlabel(\"Iteration\")\n",
    "        plt.ylabel(\"logloss\")\n",
    "        plt.title(\"Loss curve for training\")\n",
    "        plt.show()  "
   ]
  },
  {
   "cell_type": "code",
   "execution_count": 18,
   "id": "ccd3bfe9",
   "metadata": {},
   "outputs": [
    {
     "data": {
      "image/png": "[encoded data removed]",
      "text/plain": [
       "<Figure size 432x288 with 1 Axes>"
      ]
     },
     "metadata": {
      "needs_background": "light"
     },
     "output_type": "display_data"
    }
   ],
   "source": [
    "nn = ArtificialNeuralNetwork(layers=[13,6,4,1], learning_rate=0.01, iterations=150) \n",
    "nn.fit(X_train, y_train) \n",
    "nn.plot_loss()"
   ]
  },
  {
   "cell_type": "code",
   "execution_count": 19,
   "id": "7e551a15",
   "metadata": {},
   "outputs": [
    {
     "name": "stdout",
     "output_type": "stream",
     "text": [
      "Train accuracy is 89%\n",
      "Test accuracy is 73%\n"
     ]
    }
   ],
   "source": [
    "train_pred = nn.predict(X_train)\n",
    "test_pred = nn.predict(X_test)\n",
    "\n",
    "print(\"Train accuracy is {}%\".format(nn.acc(y_train, train_pred)))\n",
    "print(\"Test accuracy is {}%\".format(nn.acc(y_test, test_pred)))"
   ]
  }
 ],
 "metadata": {
  "kernelspec": {
   "display_name": "Python 3",
   "language": "python",
   "name": "python3"
  },
  "language_info": {
   "codemirror_mode": {
    "name": "ipython",
    "version": 3
   },
   "file_extension": ".py",
   "mimetype": "text/x-python",
   "name": "python",
   "nbconvert_exporter": "python",
   "pygments_lexer": "ipython3",
   "version": "3.8.8"
  }
 },
 "nbformat": 4,
 "nbformat_minor": 5
}
